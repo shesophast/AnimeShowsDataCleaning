{
 "cells": [
  {
   "cell_type": "code",
   "execution_count": 15,
   "id": "0de7172b-2e9f-48ac-8601-1561cf97364f",
   "metadata": {},
   "outputs": [],
   "source": [
    "import pandas as pd"
   ]
  },
  {
   "cell_type": "code",
   "execution_count": 24,
   "id": "e4440d21-56cb-4a9a-baf4-19d26e6d4f0d",
   "metadata": {},
   "outputs": [
    {
     "data": {
      "text/html": [
       "<div>\n",
       "<style scoped>\n",
       "    .dataframe tbody tr th:only-of-type {\n",
       "        vertical-align: middle;\n",
       "    }\n",
       "\n",
       "    .dataframe tbody tr th {\n",
       "        vertical-align: top;\n",
       "    }\n",
       "\n",
       "    .dataframe thead th {\n",
       "        text-align: right;\n",
       "    }\n",
       "</style>\n",
       "<table border=\"1\" class=\"dataframe\">\n",
       "  <thead>\n",
       "    <tr style=\"text-align: right;\">\n",
       "      <th></th>\n",
       "      <th>Anime Name</th>\n",
       "      <th>Genre</th>\n",
       "      <th>Episodes</th>\n",
       "      <th>Rating</th>\n",
       "      <th>Release Year</th>\n",
       "    </tr>\n",
       "  </thead>\n",
       "  <tbody>\n",
       "    <tr>\n",
       "      <th>0</th>\n",
       "      <td>Naruto</td>\n",
       "      <td>Action</td>\n",
       "      <td>220.0</td>\n",
       "      <td>8.5</td>\n",
       "      <td>2002</td>\n",
       "    </tr>\n",
       "    <tr>\n",
       "      <th>1</th>\n",
       "      <td>One Piece</td>\n",
       "      <td>Adventure</td>\n",
       "      <td>1000.0</td>\n",
       "      <td>9.1</td>\n",
       "      <td>1999</td>\n",
       "    </tr>\n",
       "    <tr>\n",
       "      <th>2</th>\n",
       "      <td>Attack on Titan</td>\n",
       "      <td>Action</td>\n",
       "      <td>75.0</td>\n",
       "      <td>9.5</td>\n",
       "      <td>2013</td>\n",
       "    </tr>\n",
       "    <tr>\n",
       "      <th>3</th>\n",
       "      <td>Naruto</td>\n",
       "      <td>Action</td>\n",
       "      <td>220.0</td>\n",
       "      <td>8.5</td>\n",
       "      <td>2002</td>\n",
       "    </tr>\n",
       "    <tr>\n",
       "      <th>4</th>\n",
       "      <td>My Hero Academia</td>\n",
       "      <td>Action</td>\n",
       "      <td>NaN</td>\n",
       "      <td>7.8</td>\n",
       "      <td>2016</td>\n",
       "    </tr>\n",
       "    <tr>\n",
       "      <th>5</th>\n",
       "      <td>Hunter x Hunter</td>\n",
       "      <td>Adventure</td>\n",
       "      <td>148.0</td>\n",
       "      <td>10.0</td>\n",
       "      <td>2011</td>\n",
       "    </tr>\n",
       "    <tr>\n",
       "      <th>6</th>\n",
       "      <td>One Piece</td>\n",
       "      <td>Adventure</td>\n",
       "      <td>1000.0</td>\n",
       "      <td>9.1</td>\n",
       "      <td>1999</td>\n",
       "    </tr>\n",
       "    <tr>\n",
       "      <th>7</th>\n",
       "      <td>Jujutsu Kaisen</td>\n",
       "      <td>Action</td>\n",
       "      <td>1.0</td>\n",
       "      <td>9.5</td>\n",
       "      <td>2020</td>\n",
       "    </tr>\n",
       "  </tbody>\n",
       "</table>\n",
       "</div>"
      ],
      "text/plain": [
       "         Anime Name     Genre   Episodes  Rating  Release Year\n",
       "0            Naruto     Action     220.0     8.5          2002\n",
       "1         One Piece  Adventure    1000.0     9.1          1999\n",
       "2   Attack on Titan     Action      75.0     9.5          2013\n",
       "3            Naruto     Action     220.0     8.5          2002\n",
       "4  My Hero Academia     Action       NaN     7.8          2016\n",
       "5   Hunter x Hunter  Adventure     148.0    10.0          2011\n",
       "6         One Piece  Adventure    1000.0     9.1          1999\n",
       "7    Jujutsu Kaisen     Action       1.0     9.5          2020"
      ]
     },
     "execution_count": 24,
     "metadata": {},
     "output_type": "execute_result"
    }
   ],
   "source": [
    "df = pd.read_csv('/Users/shesophast/GWC Projects/AnimeShowsDataCleaning/animeproject/animedata.csv')\n",
    "df"
   ]
  },
  {
   "cell_type": "code",
   "execution_count": 25,
   "id": "4e65ac6e-f85c-42fc-96e3-33e6c85295be",
   "metadata": {},
   "outputs": [
    {
     "name": "stdout",
     "output_type": "stream",
     "text": [
      "['Anime Name', 'Genre ', 'Episodes', 'Rating', 'Release Year']\n"
     ]
    }
   ],
   "source": [
    "#Read all columns and check their names to avoid errors\n",
    "df =pd.DataFrame(df)\n",
    "df.head()\n",
    "column_list = list(df.columns)\n",
    "print(column_list)"
   ]
  },
  {
   "cell_type": "code",
   "execution_count": 26,
   "id": "c781779d-6eb6-4ece-9776-1792087f6b75",
   "metadata": {},
   "outputs": [
    {
     "name": "stdout",
     "output_type": "stream",
     "text": [
      "Anime Name      0\n",
      "Genre           0\n",
      "Episodes        1\n",
      "Rating          0\n",
      "Release Year    0\n",
      "dtype: int64\n"
     ]
    }
   ],
   "source": [
    "#Checking for any null values (lack of value in a column)\n",
    "nullValues = df.isna().sum()\n",
    "print(nullValues)"
   ]
  },
  {
   "cell_type": "code",
   "execution_count": 27,
   "id": "23d3c789-5a4c-4305-92cc-13a7417ac15f",
   "metadata": {},
   "outputs": [
    {
     "name": "stdout",
     "output_type": "stream",
     "text": [
      "        Anime Name     Genre   Episodes  Rating  Release Year\n",
      "0           Naruto     Action     220.0     8.5          2002\n",
      "1        One Piece  Adventure    1000.0     9.1          1999\n",
      "2  Attack on Titan     Action      75.0     9.5          2013\n",
      "3           Naruto     Action     220.0     8.5          2002\n",
      "5  Hunter x Hunter  Adventure     148.0    10.0          2011\n",
      "6        One Piece  Adventure    1000.0     9.1          1999\n",
      "7   Jujutsu Kaisen     Action       1.0     9.5          2020\n"
     ]
    }
   ],
   "source": [
    "#Deleting Null Data\n",
    "df= df.dropna(subset=['Episodes'])\n",
    "print(df)"
   ]
  },
  {
   "cell_type": "code",
   "execution_count": 28,
   "id": "36514769-7ab0-400d-b840-d351728cb444",
   "metadata": {},
   "outputs": [
    {
     "name": "stdout",
     "output_type": "stream",
     "text": [
      "0    False\n",
      "1    False\n",
      "2    False\n",
      "3     True\n",
      "5    False\n",
      "6     True\n",
      "7    False\n",
      "dtype: bool\n"
     ]
    }
   ],
   "source": [
    "#Checking for Duplicates\n",
    "animeName=df.duplicated('Anime Name')\n",
    "print(animeName)"
   ]
  },
  {
   "cell_type": "code",
   "execution_count": 29,
   "id": "d013e5f2-e933-45b8-808f-52ab889c4a2f",
   "metadata": {},
   "outputs": [
    {
     "name": "stdout",
     "output_type": "stream",
     "text": [
      "        Anime Name     Genre   Episodes  Rating  Release Year\n",
      "0           Naruto     Action     220.0     8.5          2002\n",
      "1        One Piece  Adventure    1000.0     9.1          1999\n",
      "2  Attack on Titan     Action      75.0     9.5          2013\n",
      "5  Hunter x Hunter  Adventure     148.0    10.0          2011\n",
      "7   Jujutsu Kaisen     Action       1.0     9.5          2020\n"
     ]
    }
   ],
   "source": [
    "#Deleting Duplicates\n",
    "df = df.drop_duplicates('Anime Name')\n",
    "print(df)"
   ]
  },
  {
   "cell_type": "code",
   "execution_count": 30,
   "id": "091eff57-52ab-4af6-ab44-444024b86c2a",
   "metadata": {},
   "outputs": [
    {
     "name": "stdout",
     "output_type": "stream",
     "text": [
      "Anime Name      Jujutsu Kaisen\n",
      "Genre                   Action\n",
      "Episodes                   1.0\n",
      "Rating                     9.5\n",
      "Release Year              2020\n",
      "dtype: object\n"
     ]
    }
   ],
   "source": [
    "#Checking to see if Episode are less than 5\n",
    "incompleteSeries= df[df['Episodes'] < 5].sum()\n",
    "print(incompleteSeries)"
   ]
  },
  {
   "cell_type": "code",
   "execution_count": 31,
   "id": "3cfd940d-133a-4a2d-bdf1-91098c22cea0",
   "metadata": {},
   "outputs": [
    {
     "name": "stdout",
     "output_type": "stream",
     "text": [
      "        Anime Name     Genre   Episodes  Rating  Release Year\n",
      "0           Naruto     Action     220.0     8.5          2002\n",
      "1        One Piece  Adventure    1000.0     9.1          1999\n",
      "2  Attack on Titan     Action      75.0     9.5          2013\n",
      "5  Hunter x Hunter  Adventure     148.0    10.0          2011\n"
     ]
    }
   ],
   "source": [
    "#Deleting incomplete series\n",
    "df = df[df['Episodes'] >= 5]\n",
    "print(df)"
   ]
  },
  {
   "cell_type": "code",
   "execution_count": 32,
   "id": "9deeddc5-42a9-4188-a4e7-55ea0a2c8880",
   "metadata": {},
   "outputs": [
    {
     "name": "stdout",
     "output_type": "stream",
     "text": [
      "Clean Data\n",
      "        Anime Name     Genre   Episodes  Rating  Release Year\n",
      "0           Naruto     Action     220.0     8.5          2002\n",
      "1        One Piece  Adventure    1000.0     9.1          1999\n",
      "2  Attack on Titan     Action      75.0     9.5          2013\n",
      "5  Hunter x Hunter  Adventure     148.0    10.0          2011\n"
     ]
    }
   ],
   "source": [
    "#Printing Clean Data\n",
    "print(\"Clean Data\")\n",
    "print(df)"
   ]
  },
  {
   "cell_type": "code",
   "execution_count": null,
   "id": "3684ce02-4ce7-44ce-b6a8-74682dda5b3c",
   "metadata": {},
   "outputs": [],
   "source": []
  }
 ],
 "metadata": {
  "kernelspec": {
   "display_name": "Python 3 (ipykernel)",
   "language": "python",
   "name": "python3"
  },
  "language_info": {
   "codemirror_mode": {
    "name": "ipython",
    "version": 3
   },
   "file_extension": ".py",
   "mimetype": "text/x-python",
   "name": "python",
   "nbconvert_exporter": "python",
   "pygments_lexer": "ipython3",
   "version": "3.13.2"
  }
 },
 "nbformat": 4,
 "nbformat_minor": 5
}
